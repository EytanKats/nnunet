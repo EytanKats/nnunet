{
 "cells": [
  {
   "cell_type": "markdown",
   "metadata": {},
   "source": [
    "# Run connected components postprocessing with nnUNet method (does not seem to work properly)"
   ]
  },
  {
   "cell_type": "code",
   "execution_count": 9,
   "metadata": {},
   "outputs": [],
   "source": [
    "# from nnunet.postprocessing.connected_components import apply_postprocessing_to_folder\n",
    "# input_folder = \"/data_rechenknecht01_2/weihsbach/nnunet/nnUNet_inference_output/Task656_MMWHS_RESAMPLE_ONLY/nnUNetTrainerV2_RandomFieldAugmentationXEdgeConvMax\"\n",
    "# output_folder = \"/data_rechenknecht01_2/weihsbach/nnunet/nnUNet_inference_output/Task656_MMWHS_RESAMPLE_ONLY/nnUNetTrainerV2_RandomFieldAugmentationXEdgeConvMax/nnunet_connected_components\"\n",
    "# apply_postprocessing_to_folder(input_folder, output_folder, [1,2,3,4,5,6,7])"
   ]
  },
  {
   "cell_type": "markdown",
   "metadata": {},
   "source": [
    "# Run CC3D connected components"
   ]
  },
  {
   "cell_type": "code",
   "execution_count": 2,
   "metadata": {},
   "outputs": [],
   "source": [
    "import nibabel as nib\n",
    "import torch\n",
    "import cc3d\n",
    "from pathlib import Path\n",
    "import numpy as np"
   ]
  },
  {
   "cell_type": "code",
   "execution_count": 3,
   "metadata": {},
   "outputs": [],
   "source": [
    "def get_largest_label_components(input_label, verbose=False):\n",
    "\n",
    "    # Analyse all connected components\n",
    "    labels_out, N = cc3d.connected_components(input_label.numpy(), connectivity=6, return_N=True)\n",
    "    labels_out = labels_out.astype(int)\n",
    "\n",
    "    # Find largest regions and their connected compenents ids (sorted)\n",
    "    elem_tensor = torch.zeros([N])\n",
    "    for con_id in range(1, N):\n",
    "        num = (labels_out == con_id).sum()\n",
    "        elem_tensor[con_id] = num\n",
    "\n",
    "    sorted_con_ids = torch.topk(elem_tensor, N, dim=0, largest=True, sorted=True).indices.tolist()\n",
    "    # Search beginning with the largest region and find label class. \n",
    "    # Just use largest region for each label\n",
    "    remaining_ids = torch_data.unique().tolist()\n",
    "    largest_labels = torch.zeros_like(torch_data)\n",
    "\n",
    "    remaining_ids.remove(0) # We do not want background id\n",
    "    for _id in sorted_con_ids:\n",
    "        con_id_match = (labels_out == _id)\n",
    "        label_id = torch_data[con_id_match].unique().item()\n",
    "        if label_id in remaining_ids:\n",
    "            if verbose:\n",
    "                print(\"Found label\", label_id)\n",
    "            remaining_ids.remove(label_id)\n",
    "            largest_labels[con_id_match] = label_id\n",
    "        if len(remaining_ids) == 0: break\n",
    "\n",
    "    return largest_labels\n"
   ]
  },
  {
   "cell_type": "code",
   "execution_count": 3,
   "metadata": {},
   "outputs": [
    {
     "name": "stdout",
     "output_type": "stream",
     "text": [
      "Processing /data_rechenknecht01_2/weihsbach/nnunet/nnUNet_inference_output/Task656_MMWHS_RESAMPLE_ONLY/nnUNetTrainerV2\n",
      "Saving: connected_compoents/mr_train_1009_resampled.nii.gz\n",
      "Saving: connected_compoents/mr_train_1014_resampled.nii.gz\n",
      "Saving: connected_compoents/mr_train_1001_resampled.nii.gz\n",
      "Saving: connected_compoents/mr_train_1013_resampled.nii.gz\n",
      "Saving: connected_compoents/mr_train_1012_resampled.nii.gz\n",
      "Saving: connected_compoents/mr_train_1002_resampled.nii.gz\n",
      "Processing /data_rechenknecht01_2/weihsbach/nnunet/nnUNet_inference_output/Task656_MMWHS_RESAMPLE_ONLY/nnUNetTrainerV2_RandomFieldAugmentation\n",
      "Saving: connected_compoents/mr_train_1012_resampled.nii.gz\n",
      "Saving: connected_compoents/mr_train_1009_resampled.nii.gz\n",
      "Saving: connected_compoents/mr_train_1013_resampled.nii.gz\n",
      "Saving: connected_compoents/mr_train_1002_resampled.nii.gz\n",
      "Saving: connected_compoents/mr_train_1014_resampled.nii.gz\n",
      "Saving: connected_compoents/mr_train_1001_resampled.nii.gz\n",
      "Processing /data_rechenknecht01_2/weihsbach/nnunet/nnUNet_inference_output/Task656_MMWHS_RESAMPLE_ONLY/nnUNetTrainerV2_XEdgeConvMax\n",
      "Saving: connected_compoents/mr_train_1013_resampled.nii.gz\n",
      "Saving: connected_compoents/mr_train_1002_resampled.nii.gz\n",
      "Saving: connected_compoents/mr_train_1014_resampled.nii.gz\n",
      "Saving: connected_compoents/mr_train_1001_resampled.nii.gz\n",
      "Saving: connected_compoents/mr_train_1009_resampled.nii.gz\n",
      "Saving: connected_compoents/mr_train_1012_resampled.nii.gz\n",
      "Processing /data_rechenknecht01_2/weihsbach/nnunet/nnUNet_inference_output/Task656_MMWHS_RESAMPLE_ONLY/nnUNetTrainerV2_RandomFieldAugmentationXEdgeConvMax\n",
      "Saving: connected_compoents/mr_train_1013_resampled.nii.gz\n",
      "Saving: connected_compoents/mr_train_1012_resampled.nii.gz\n",
      "Saving: connected_compoents/mr_train_1002_resampled.nii.gz\n",
      "Saving: connected_compoents/mr_train_1009_resampled.nii.gz\n",
      "Saving: connected_compoents/mr_train_1014_resampled.nii.gz\n",
      "Saving: connected_compoents/mr_train_1001_resampled.nii.gz\n",
      "Saving: connected_compoents/5358-991_ANONYMISED_mpi62_FOV296_15x6mm_20ms_prep_45_trig_delete_10101000000_1_i00002_SA_at_400ms.nii.gz\n",
      "Saving: connected_compoents/5358-991_ANONYMISED_mpi62_FOV296_15x6mm_20ms_prep_45_trig_delete_10101000000_1_i00001_HLA_at_400ms.nii.gz\n",
      "Processing /data_rechenknecht01_2/weihsbach/nnunet/nnUNet_inference_output/Task656_MMWHS_RESAMPLE_ONLY/nnUNetTrainerV2_SymPermute-full\n",
      "Saving: connected_compoents/mr_train_1009_resampled.nii.gz\n",
      "Saving: connected_compoents/mr_train_1002_resampled.nii.gz\n",
      "Saving: connected_compoents/mr_train_1012_resampled.nii.gz\n",
      "Saving: connected_compoents/mr_train_1001_resampled.nii.gz\n",
      "Saving: connected_compoents/mr_train_1013_resampled.nii.gz\n",
      "Saving: connected_compoents/mr_train_1014_resampled.nii.gz\n",
      "Saving: connected_compoents/5358-991_ANONYMISED_mpi62_FOV296_15x6mm_20ms_prep_45_trig_delete_10101000000_1_i00001_HLA_at_400ms.nii.gz\n",
      "Saving: connected_compoents/5358-991_ANONYMISED_mpi62_FOV296_15x6mm_20ms_prep_45_trig_delete_10101000000_1_i00002_SA_at_400ms.nii.gz\n",
      "Processing /data_rechenknecht01_2/weihsbach/nnunet/nnUNet_inference_output/Task656_MMWHS_RESAMPLE_ONLY/nnUNetTrainerV2_LRASPP3D\n",
      "Saving: connected_compoents/mr_train_1002_resampled.nii.gz\n",
      "Saving: connected_compoents/mr_train_1009_resampled.nii.gz\n",
      "Saving: connected_compoents/mr_train_1012_resampled.nii.gz\n",
      "Saving: connected_compoents/mr_train_1013_resampled.nii.gz\n",
      "Saving: connected_compoents/mr_train_1001_resampled.nii.gz\n",
      "Saving: connected_compoents/mr_train_1014_resampled.nii.gz\n",
      "Processing /data_rechenknecht01_2/weihsbach/nnunet/nnUNet_inference_output/Task656_MMWHS_RESAMPLE_ONLY/nnUNetTrainerV2_SymPermute-six-neighbourhood-only\n",
      "Saving: connected_compoents/mr_train_1009_resampled.nii.gz\n",
      "Saving: connected_compoents/mr_train_1012_resampled.nii.gz\n",
      "Saving: connected_compoents/mr_train_1002_resampled.nii.gz\n",
      "Saving: connected_compoents/mr_train_1013_resampled.nii.gz\n",
      "Saving: connected_compoents/mr_train_1001_resampled.nii.gz\n",
      "Saving: connected_compoents/mr_train_1014_resampled.nii.gz\n"
     ]
    }
   ],
   "source": [
    "base_folder = Path(\"/data_rechenknecht01_2/weihsbach/nnunet/nnUNet_inference_output/Task656_MMWHS_RESAMPLE_ONLY/\").iterdir()\n",
    "for input_folder in base_folder:\n",
    "    print(\"Processing\", input_folder)\n",
    "    for input_path in input_folder.glob(\"*.nii.gz\"):\n",
    "        output_path = Path(*input_path.parts[:-1], \"connected_compoents\", input_path.parts[-1])\n",
    "        nib_file = nib.load(input_path)\n",
    "        torch_data = torch.as_tensor(nib_file.get_fdata()).int()\n",
    "        output_label = get_largest_label_components(torch_data)\n",
    "        print(\"Saving:\", \"/\".join(output_path.parts[-2:]))\n",
    "        output_path.parent.mkdir(exist_ok=True)\n",
    "        nib.save(nib.Nifti1Image(output_label.numpy().astype(np.int32), affine=nib_file.affine), output_path)"
   ]
  },
  {
   "cell_type": "code",
   "execution_count": 5,
   "metadata": {},
   "outputs": [
    {
     "name": "stdout",
     "output_type": "stream",
     "text": [
      "Processing /data_rechenknecht01_2/weihsbach/nnunet/nnUNet_inference_output/Task202_AbdomenCTCT_permuted/nnUNetTrainerV2_SymPermute-full\n",
      "Saving: connected_compoents/img0004.nii.gz\n",
      "Saving: connected_compoents/img0001.nii.gz\n",
      "Saving: connected_compoents/img0007.nii.gz\n",
      "Saving: connected_compoents/img0010.nii.gz\n",
      "Saving: connected_compoents/img0026.nii.gz\n",
      "Saving: connected_compoents/img0023.nii.gz\n",
      "Saving: connected_compoents/img0032.nii.gz\n",
      "Saving: connected_compoents/img0029.nii.gz\n",
      "Saving: connected_compoents/img0035.nii.gz\n",
      "Saving: connected_compoents/img0038.nii.gz\n",
      "Processing /data_rechenknecht01_2/weihsbach/nnunet/nnUNet_inference_output/Task202_AbdomenCTCT_permuted/nnUNetTrainerV2_SymPermute-six-neighbourhood-only\n",
      "Saving: connected_compoents/img0004.nii.gz\n",
      "Saving: connected_compoents/img0001.nii.gz\n",
      "Saving: connected_compoents/img0010.nii.gz\n",
      "Saving: connected_compoents/img0007.nii.gz\n",
      "Saving: connected_compoents/img0023.nii.gz\n",
      "Saving: connected_compoents/img0026.nii.gz\n",
      "Saving: connected_compoents/img0032.nii.gz\n",
      "Saving: connected_compoents/img0029.nii.gz\n",
      "Saving: connected_compoents/img0038.nii.gz\n",
      "Saving: connected_compoents/img0035.nii.gz\n",
      "Processing /data_rechenknecht01_2/weihsbach/nnunet/nnUNet_inference_output/Task202_AbdomenCTCT_permuted/nnUNetTrainerV2_lraspp3d\n",
      "Saving: connected_compoents/img0004.nii.gz\n",
      "Saving: connected_compoents/img0010.nii.gz\n",
      "Saving: connected_compoents/img0001.nii.gz\n",
      "Saving: connected_compoents/img0007.nii.gz\n",
      "Saving: connected_compoents/img0023.nii.gz\n",
      "Saving: connected_compoents/img0026.nii.gz\n",
      "Saving: connected_compoents/img0032.nii.gz\n",
      "Saving: connected_compoents/img0038.nii.gz\n",
      "Saving: connected_compoents/img0029.nii.gz\n",
      "Saving: connected_compoents/img0035.nii.gz\n",
      "Processing /data_rechenknecht01_2/weihsbach/nnunet/nnUNet_inference_output/Task202_AbdomenCTCT_permuted/nnUNetTrainerV2_LRASPP3D\n"
     ]
    }
   ],
   "source": [
    "base_folder = Path(\"/data_rechenknecht01_2/weihsbach/nnunet/nnUNet_inference_output/Task202_AbdomenCTCT_permuted/\").iterdir()\n",
    "for input_folder in base_folder:\n",
    "    print(\"Processing\", input_folder)\n",
    "    for input_path in input_folder.glob(\"*.nii.gz\"):\n",
    "        output_path = Path(*input_path.parts[:-1], \"connected_compoents\", input_path.parts[-1])\n",
    "        nib_file = nib.load(input_path)\n",
    "        torch_data = torch.as_tensor(nib_file.get_fdata()).int()\n",
    "        output_label = get_largest_label_components(torch_data)\n",
    "        print(\"Saving:\", \"/\".join(output_path.parts[-2:]))\n",
    "        output_path.parent.mkdir(exist_ok=True)\n",
    "        nib.save(nib.Nifti1Image(output_label.numpy().astype(np.int32), affine=nib_file.affine), output_path)"
   ]
  },
  {
   "cell_type": "code",
   "execution_count": 6,
   "metadata": {},
   "outputs": [
    {
     "name": "stdout",
     "output_type": "stream",
     "text": [
      "Processing /data_rechenknecht01_2/weihsbach/nnunet/nnUNet_inference_output/Task202_AbdomenCTCT_normal/nnUNetTrainerV2_lraspp3d\n",
      "Saving: connected_compoents/img0004.nii.gz\n",
      "Saving: connected_compoents/img0007.nii.gz\n",
      "Saving: connected_compoents/img0001.nii.gz\n",
      "Saving: connected_compoents/img0010.nii.gz\n",
      "Saving: connected_compoents/img0023.nii.gz\n",
      "Saving: connected_compoents/img0026.nii.gz\n",
      "Saving: connected_compoents/img0032.nii.gz\n",
      "Saving: connected_compoents/img0035.nii.gz\n",
      "Saving: connected_compoents/img0029.nii.gz\n",
      "Saving: connected_compoents/img0038.nii.gz\n"
     ]
    }
   ],
   "source": [
    "base_folder = Path(\"/data_rechenknecht01_2/weihsbach/nnunet/nnUNet_inference_output/Task202_AbdomenCTCT_normal/\").iterdir()\n",
    "for input_folder in base_folder:\n",
    "    print(\"Processing\", input_folder)\n",
    "    for input_path in input_folder.glob(\"*.nii.gz\"):\n",
    "        output_path = Path(*input_path.parts[:-1], \"connected_compoents\", input_path.parts[-1])\n",
    "        nib_file = nib.load(input_path)\n",
    "        torch_data = torch.as_tensor(nib_file.get_fdata()).int()\n",
    "        output_label = get_largest_label_components(torch_data)\n",
    "        print(\"Saving:\", \"/\".join(output_path.parts[-2:]))\n",
    "        output_path.parent.mkdir(exist_ok=True)\n",
    "        nib.save(nib.Nifti1Image(output_label.numpy().astype(np.int32), affine=nib_file.affine), output_path)"
   ]
  },
  {
   "cell_type": "code",
   "execution_count": null,
   "metadata": {},
   "outputs": [],
   "source": []
  }
 ],
 "metadata": {
  "kernelspec": {
   "display_name": "Python 3.9.13 ('.venv': poetry)",
   "language": "python",
   "name": "python3"
  },
  "language_info": {
   "codemirror_mode": {
    "name": "ipython",
    "version": 3
   },
   "file_extension": ".py",
   "mimetype": "text/x-python",
   "name": "python",
   "nbconvert_exporter": "python",
   "pygments_lexer": "ipython3",
   "version": "3.9.13"
  },
  "orig_nbformat": 4,
  "vscode": {
   "interpreter": {
    "hash": "4bf942f323ec399e9c11c70396d91a7dba89a85b05ee8445350f006db9b4f409"
   }
  }
 },
 "nbformat": 4,
 "nbformat_minor": 2
}
